{
 "cells": [
  {
   "cell_type": "code",
   "execution_count": null,
   "metadata": {},
   "outputs": [],
   "source": [
    "import pandas as pd"
   ]
  },
  {
   "cell_type": "code",
   "execution_count": null,
   "metadata": {},
   "outputs": [],
   "source": [
    "flat_data =  [['', 'Tue, Oct 11', 'place 1', '', '', 'Thu, Oct 13', 'place 2', '', '', 'Sat, Oct 15', 'place 3', '', '', 'Sun, Oct 16', 'place 4'], [], [], ['', '14-15', '', '', '', '14-15', '', '', '', '12-13', '', '', '', '10-11'], ['', '15-16', '', '', '', '15-16', '', '', '', '13-14', 'bula1', 'mula1', '', '11-12'], ['', '16-17', 'janek', 'franek', '', '16-17', '', '', '', '14-15'], ['', '17-18', 'aa', '???', '', '17-18', '', '', '', '15-16'], ['', '18-19', '', '', '', '18-19', '', '', '', '16-17', '', '', '', '15-16'], ['', '', '', '', '', '', '', '', '', '17-18', '', '', '', '16-17'], ['', '', '', '', '', '', '', '', '', '18-19', '', '', '', '17-18'], [], [], ['', 'Tue, Oct 18', 'Reagana', '', '', 'Thu, Oct 20', 'Kredka dormitory', '', '', 'Sat, Oct 22', 'Hala Targowa', '', '', 'Sun, Oct 23', 'Railway Station'], [], [], ['', '14-15', '', '', '', '14-15', '', '', '', '12-13', '', '', '', '10-11'], ['', '15-16', '', '', '', '15-16', '', '', '', '13-14', 'jola', 'kola', '', '11-12'], ['', '16-17', 'zbigniew', '', '', '16-17', '', '', '', '14-15', 'mola', 'sola'], ['', '17-18', '', 'franciszek', '', '17-18', '', '', '', '15-16'], ['', '18-19', '', '', '', '18-19', '', '', '', '16-17', '', '', '', '15-16'], ['', '', '', '', '', '', '', '', '', '17-18', '', '', '', '16-17'], ['', '', '', '', '', '', '', '', '', '18-19', '', '', '', '17-18']]"
   ]
  },
  {
   "cell_type": "code",
   "execution_count": null,
   "metadata": {},
   "outputs": [],
   "source": [
    "df = pd.DataFrame(flat_data)\n",
    "df"
   ]
  },
  {
   "cell_type": "code",
   "execution_count": null,
   "metadata": {},
   "outputs": [],
   "source": [
    "df = df.iloc[range(22), range(13)]"
   ]
  },
  {
   "cell_type": "code",
   "execution_count": null,
   "metadata": {},
   "outputs": [],
   "source": [
    "import re\n",
    "\n",
    "def is_text_corner(val):\n",
    "    if not val:\n",
    "        return None\n",
    "    return re.match('\\w+,\\s\\w+\\s\\d+', val) != None\n",
    "        # return \n",
    "# date_indices = \n",
    "print(is_text_corner('Tue, Oct 1'))"
   ]
  },
  {
   "cell_type": "code",
   "execution_count": null,
   "metadata": {},
   "outputs": [],
   "source": [
    "len(df.columns)"
   ]
  },
  {
   "cell_type": "code",
   "execution_count": null,
   "metadata": {},
   "outputs": [],
   "source": [
    "corners = []\n",
    "\n",
    "for x in range(len(df.columns)):\n",
    "    for y in range(len(df)):\n",
    "        if is_text_corner(df.iloc[y][x]):\n",
    "            corners.append((x, y))\n",
    "        \n",
    "corners"
   ]
  },
  {
   "cell_type": "code",
   "execution_count": null,
   "metadata": {},
   "outputs": [],
   "source": [
    "one_day_shape = ( corners[2][0] - corners[0][0], corners[1][1] - corners[0][1] )\n",
    "one_day_shape\n",
    "# todo: can be improved, not all days can have it, get min"
   ]
  },
  {
   "cell_type": "code",
   "execution_count": null,
   "metadata": {},
   "outputs": [],
   "source": [
    "small_dfs = []\n",
    "\n",
    "for corner in corners:\n",
    "    df = df.copy()\n",
    "    print(corner)\n",
    "    # small_dfs.append(df.iloc[range(corner[0], corner[0]+one_day_shape[0]), range(corner[1], corner[1]+one_day_shape[1])])\n",
    "    small_df = df.copy().iloc[range(corner[1], min(corner[1]+one_day_shape[1], len(df))), range(corner[0], min(corner[0]+one_day_shape[0], len(df.columns)))]\n",
    "    small_dfs.append(small_df)\n",
    "    print(small_df.head(3))\n",
    "    # print(df)\n",
    "    # break\n"
   ]
  },
  {
   "cell_type": "code",
   "execution_count": null,
   "metadata": {},
   "outputs": [],
   "source": [
    "datestr = \"Tue, Oct 11\"\n",
    "from datetime import datetime\n",
    "\n",
    "def to_date(txt):\n",
    "    date_only = datetime.strptime(txt, \"%a, %b %d\").replace(datetime.now().year)\n",
    "    return date_only\n",
    "\n",
    "to_date(datestr)"
   ]
  },
  {
   "cell_type": "code",
   "execution_count": null,
   "metadata": {},
   "outputs": [],
   "source": [
    "entries = []\n",
    "\n",
    "for dfs in small_dfs:\n",
    "    corner_date = to_date(dfs.iloc[0,0])\n",
    "    for y in range(1,len(dfs)):\n",
    "        first_row_value = dfs.iloc[y, 0]\n",
    "        if first_row_value:\n",
    "            hour_str = first_row_value.split('-')[0]\n",
    "            date_and_hour = corner_date.replace(hour=int(hour_str))\n",
    "            entries.append([date_and_hour, dfs.iloc[y,1]])\n",
    "            entries.append([date_and_hour, dfs.iloc[y,2]])\n",
    "            \n",
    "    # schedules[key] = dates\n",
    "    # break\n",
    "\n",
    "\n",
    "entries"
   ]
  },
  {
   "cell_type": "code",
   "execution_count": null,
   "metadata": {},
   "outputs": [],
   "source": [
    "entries[0]"
   ]
  },
  {
   "cell_type": "code",
   "execution_count": null,
   "metadata": {},
   "outputs": [],
   "source": [
    "to_send_list = ['-'.join([dt_tuple[0].strftime('%Y-%m-%d %H:%M'), str(dt_tuple[1])]) for dt_tuple in entries if dt_tuple[1]]\n",
    "to_send_list"
   ]
  }
 ],
 "metadata": {
  "kernelspec": {
   "display_name": "Python 3.9.12 ('notebooks-kEyLt7Sx')",
   "language": "python",
   "name": "python3"
  },
  "language_info": {
   "codemirror_mode": {
    "name": "ipython",
    "version": 3
   },
   "file_extension": ".py",
   "mimetype": "text/x-python",
   "name": "python",
   "nbconvert_exporter": "python",
   "pygments_lexer": "ipython3",
   "version": "3.9.12"
  },
  "orig_nbformat": 4,
  "vscode": {
   "interpreter": {
    "hash": "52c46359f331d205f6f1200c167de43b5cb9bff18116bb1ca525d29f898e5cc8"
   }
  }
 },
 "nbformat": 4,
 "nbformat_minor": 2
}
